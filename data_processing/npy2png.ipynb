{
 "cells": [
  {
   "cell_type": "code",
   "execution_count": 1,
   "metadata": {
    "ExecuteTime": {
     "end_time": "2021-07-25T15:28:47.509774Z",
     "start_time": "2021-07-25T15:28:34.835876Z"
    }
   },
   "outputs": [
    {
     "name": "stderr",
     "output_type": "stream",
     "text": [
      "E:\\Users\\Weifa\\Anaconda3\\envs\\py37\\lib\\site-packages\\numpy\\_distributor_init.py:32: UserWarning: loaded more than 1 DLL from .libs:\n",
      "E:\\Users\\Weifa\\Anaconda3\\envs\\py37\\lib\\site-packages\\numpy\\.libs\\libopenblas.NOIJJG62EMASZI6NYURL6JBKM4EVBGM7.gfortran-win_amd64.dll\n",
      "E:\\Users\\Weifa\\Anaconda3\\envs\\py37\\lib\\site-packages\\numpy\\.libs\\libopenblas.TXA6YQSD3GCQQC22GEQ54J2UDCXDXHWN.gfortran-win_amd64.dll\n",
      "E:\\Users\\Weifa\\Anaconda3\\envs\\py37\\lib\\site-packages\\numpy\\.libs\\libopenblas.WCDJNK7YVMPZQ2ME2ZZHJJRJ3JIKNDB7.gfortran-win_amd64.dll\n",
      "  stacklevel=1)\n"
     ]
    }
   ],
   "source": [
    "# fro HRFSR_v1 NCI use    25831038.\n",
    "\n",
    "from datetime import timedelta, date, datetime\n",
    "import os\n",
    "import sys\n",
    "sys.path.append(\"../\")\n",
    "import util.data_processing_tool as dpt\n",
    "import numpy as np\n",
    "import csv\n",
    "import numpy as np\n",
    "import matplotlib.pyplot as plt\n",
    "import seaborn as sns\n",
    "from matplotlib.backends.backend_pdf import PdfPages\n",
    "import matplotlib\n",
    "matplotlib.use('Agg')"
   ]
  },
  {
   "cell_type": "code",
   "execution_count": 16,
   "metadata": {
    "ExecuteTime": {
     "end_time": "2021-07-25T15:45:20.461685Z",
     "start_time": "2021-07-25T15:36:22.040315Z"
    }
   },
   "outputs": [],
   "source": [
    "with open('draw_aus_filename.txt') as f:\n",
    "    for i in f.read().split('..'):\n",
    "        file_name='..'+i+'.npy'\n",
    "        if os.path.exists(file_name):\n",
    "            \n",
    "            pa=np.load(file_name,allow_pickle=True)\n",
    "            dpt.draw_aus_figure(pa[0],pa[1],pa[2],pa[3],pa[4],pa[5],pa[6],pa[7],pa[8],pa[9])\n",
    "\n",
    "#     for line in f.readline():\n",
    "#         pa=np.load(line)\n",
    "#         print(line)\n",
    "\n",
    "#         dpt.draw_aus_figure(pa[0],pa[1],pa[2],pa[3],pa[4],pa[5],pa[6],pa[7],pa[8],pa[9])"
   ]
  },
  {
   "cell_type": "code",
   "execution_count": 18,
   "metadata": {
    "ExecuteTime": {
     "end_time": "2021-07-25T15:56:38.160093Z",
     "start_time": "2021-07-25T15:50:13.252346Z"
    }
   },
   "outputs": [],
   "source": [
    "with open('draw_station_filename.txt') as f:\n",
    "    for i in f.read().split('..'):\n",
    "        file_name='..'+i+'.npy'\n",
    "        if os.path.exists(file_name):\n",
    "            pa=np.load(file_name,allow_pickle=True)\n",
    "            dpt.draw_station_figure(pa[0],domain=pa[1],param=pa[2],titles_on=pa[3],title=pa[4],cmap_label=pa[5],save=pa[6],path=pa[7])\n",
    "#             dpt.draw_aus_figure(pa[0],pa[1],pa[2],pa[3],pa[4],pa[5],pa[6],pa[7],pa[8],pa[9])"
   ]
  },
  {
   "cell_type": "code",
   "execution_count": null,
   "metadata": {},
   "outputs": [],
   "source": [
    "with open('draw_station_filename.txt') as f:\n",
    "    for line in f.readline():\n",
    "        pa=np.load(line)\n",
    "        print(line)\n",
    "        dpt.draw_station_figure(pa[0],domain=pa[1],param=pa[2],titles_on=pa[3],title=pa[4],cmap_label=pa[5],save=pa[6],path=pa[7])"
   ]
  }
 ],
 "metadata": {
  "kernelspec": {
   "display_name": "Python 3",
   "language": "python",
   "name": "python3"
  },
  "language_info": {
   "codemirror_mode": {
    "name": "ipython",
    "version": 3
   },
   "file_extension": ".py",
   "mimetype": "text/x-python",
   "name": "python",
   "nbconvert_exporter": "python",
   "pygments_lexer": "ipython3",
   "version": "3.7.1"
  }
 },
 "nbformat": 4,
 "nbformat_minor": 4
}
