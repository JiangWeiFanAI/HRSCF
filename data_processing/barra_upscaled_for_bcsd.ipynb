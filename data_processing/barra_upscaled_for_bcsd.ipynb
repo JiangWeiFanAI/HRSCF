{
 "cells": [
  {
   "cell_type": "code",
   "execution_count": 2,
   "metadata": {
    "ExecuteTime": {
     "end_time": "2021-07-08T11:48:54.330812Z",
     "start_time": "2021-07-08T11:48:51.767338Z"
    }
   },
   "outputs": [
    {
     "name": "stderr",
     "output_type": "stream",
     "text": [
      "E:\\Users\\Weifa\\Anaconda3\\envs\\py37\\lib\\site-packages\\numpy\\_distributor_init.py:32: UserWarning: loaded more than 1 DLL from .libs:\n",
      "E:\\Users\\Weifa\\Anaconda3\\envs\\py37\\lib\\site-packages\\numpy\\.libs\\libopenblas.NOIJJG62EMASZI6NYURL6JBKM4EVBGM7.gfortran-win_amd64.dll\n",
      "E:\\Users\\Weifa\\Anaconda3\\envs\\py37\\lib\\site-packages\\numpy\\.libs\\libopenblas.TXA6YQSD3GCQQC22GEQ54J2UDCXDXHWN.gfortran-win_amd64.dll\n",
      "E:\\Users\\Weifa\\Anaconda3\\envs\\py37\\lib\\site-packages\\numpy\\.libs\\libopenblas.WCDJNK7YVMPZQ2ME2ZZHJJRJ3JIKNDB7.gfortran-win_amd64.dll\n",
      "  stacklevel=1)\n"
     ]
    }
   ],
   "source": [
    "from __future__ import print_function\n",
    "import torch\n",
    "import argparse\n",
    "import sys\n",
    "sys.path.append(\"../\")\n",
    "import platform\n",
    "from datetime import timedelta, date, datetime\n",
    "import numpy as np\n",
    "import os\n",
    "import time\n",
    "import util.data_processing_tool as dpt\n",
    "from netCDF4 import Dataset\n",
    "import cv2\n",
    "import tqdm"
   ]
  },
  {
   "cell_type": "code",
   "execution_count": 4,
   "metadata": {
    "ExecuteTime": {
     "end_time": "2021-07-08T11:49:02.635482Z",
     "start_time": "2021-07-08T11:49:02.627400Z"
    }
   },
   "outputs": [],
   "source": [
    "def list_all_files(rootdir):\n",
    "    import os\n",
    "    _files = []\n",
    "    list = os.listdir(rootdir) #列出文件夹下所有的目录与文件\n",
    "    for i in range(0,len(list)):\n",
    "        path = os.path.join(rootdir,list[i])\n",
    "        if os.path.isfile(path):\n",
    "            _files.append(path)\n",
    "    return _files\n",
    "\n",
    "class gridboxavg:\n",
    "    def __init__(self, kernel_size=(2, 2), stride=2):\n",
    "        self.stride = stride\n",
    "        self.kernel_size = kernel_size\n",
    "        self.w_height = kernel_size[0]\n",
    "        self.w_width = kernel_size[1]\n",
    "\n",
    "    def __call__(self, x):\n",
    "        self.x = x\n",
    "        self.in_height = x.shape[0]\n",
    "        self.in_width = x.shape[1]\n",
    "\n",
    "        self.out_height = int((self.in_height - self.w_height) / self.stride) + 1\n",
    "        self.out_width = int((self.in_width - self.w_width) / self.stride) + 1\n",
    "        out = np.zeros((self.out_height, self.out_width))\n",
    "\n",
    "        for i in range(self.out_height):\n",
    "            for j in range(self.out_width):\n",
    "                start_i = i * self.stride\n",
    "                start_j = j * self.stride\n",
    "                end_i = start_i + self.w_height\n",
    "                end_j = start_j + self.w_width\n",
    "                out[i, j] = np.mean(x[start_i: end_i, start_j: end_j])\n",
    "        return out"
   ]
  },
  {
   "cell_type": "code",
   "execution_count": null,
   "metadata": {
    "ExecuteTime": {
     "end_time": "2021-07-06T06:45:21.029088Z",
     "start_time": "2021-07-06T06:45:21.025195Z"
    }
   },
   "outputs": [],
   "source": []
  },
  {
   "cell_type": "code",
   "execution_count": 11,
   "metadata": {
    "ExecuteTime": {
     "end_time": "2021-07-06T09:39:00.492408Z",
     "start_time": "2021-07-06T06:52:35.908275Z"
    }
   },
   "outputs": [
    {
     "name": "stderr",
     "output_type": "stream",
     "text": [
      "100%|███████████████████████████████████████████████████████████████████████████▉| 8759/8760 [2:46:23<00:01,  1.17s/it]"
     ]
    },
    {
     "ename": "OSError",
     "evalue": "[Errno -101] NetCDF: HDF error: b'../../Data/barra_aus/barra_aus.zip'",
     "output_type": "error",
     "traceback": [
      "\u001b[1;31m---------------------------------------------------------------------------\u001b[0m",
      "\u001b[1;31mOSError\u001b[0m                                   Traceback (most recent call last)",
      "\u001b[1;32m<ipython-input-11-a6dfd71a8d95>\u001b[0m in \u001b[0;36m<module>\u001b[1;34m\u001b[0m\n\u001b[0;32m      5\u001b[0m \u001b[1;32mfor\u001b[0m \u001b[0mi\u001b[0m \u001b[1;32min\u001b[0m \u001b[0mbarra_file_list\u001b[0m\u001b[1;33m:\u001b[0m\u001b[1;33m\u001b[0m\u001b[1;33m\u001b[0m\u001b[0m\n\u001b[0;32m      6\u001b[0m     \u001b[0mfile_name\u001b[0m\u001b[1;33m=\u001b[0m\u001b[0mi\u001b[0m\u001b[1;33m.\u001b[0m\u001b[0msplit\u001b[0m\u001b[1;33m(\u001b[0m\u001b[1;34m'/'\u001b[0m\u001b[1;33m)\u001b[0m\u001b[1;33m[\u001b[0m\u001b[1;33m-\u001b[0m\u001b[1;36m1\u001b[0m\u001b[1;33m]\u001b[0m\u001b[1;33m\u001b[0m\u001b[1;33m\u001b[0m\u001b[0m\n\u001b[1;32m----> 7\u001b[1;33m     \u001b[0mdata\u001b[0m\u001b[1;33m=\u001b[0m\u001b[0mDataset\u001b[0m\u001b[1;33m(\u001b[0m\u001b[0mi\u001b[0m\u001b[1;33m,\u001b[0m\u001b[1;34m'r'\u001b[0m\u001b[1;33m)\u001b[0m\u001b[1;33m\u001b[0m\u001b[1;33m\u001b[0m\u001b[0m\n\u001b[0m\u001b[0;32m      8\u001b[0m \u001b[1;33m\u001b[0m\u001b[0m\n\u001b[0;32m      9\u001b[0m     \u001b[0mvar\u001b[0m\u001b[1;33m=\u001b[0m\u001b[0mdata\u001b[0m\u001b[1;33m[\u001b[0m\u001b[1;34m'barra'\u001b[0m\u001b[1;33m]\u001b[0m\u001b[1;33m[\u001b[0m\u001b[1;33m:\u001b[0m\u001b[1;33m]\u001b[0m\u001b[1;33m\u001b[0m\u001b[1;33m\u001b[0m\u001b[0m\n",
      "\u001b[1;32mnetCDF4\\_netCDF4.pyx\u001b[0m in \u001b[0;36mnetCDF4._netCDF4.Dataset.__init__\u001b[1;34m()\u001b[0m\n",
      "\u001b[1;32mnetCDF4\\_netCDF4.pyx\u001b[0m in \u001b[0;36mnetCDF4._netCDF4._ensure_nc_success\u001b[1;34m()\u001b[0m\n",
      "\u001b[1;31mOSError\u001b[0m: [Errno -101] NetCDF: HDF error: b'../../Data/barra_aus/barra_aus.zip'"
     ]
    }
   ],
   "source": [
    "    barra_file_list=list_all_files('../../Data/barra_aus/')\n",
    "    # a=[i.split('/')[-1] for i in a]\n",
    "    grid_box_avg = gridboxavg((3, 3), stride=3)\n",
    "    barra_file_list=tqdm.tqdm(barra_file_list)\n",
    "    for i in barra_file_list:\n",
    "        file_name=i.split('/')[-1]\n",
    "        data=Dataset(i,'r')\n",
    "\n",
    "        var=data['barra'][:]\n",
    "        var=grid_box_avg(var)\n",
    "        var=dpt.interp_tensor_2d(var,(79,94),interp= cv2.INTER_LINEAR)\n",
    "    #     print(var.shape)\n",
    "        var,lat,lon=dpt.add_lat_lon_data(var)\n",
    "        data.close()\n",
    "        dpt.mkdir('../data/barra_aus/barra_upscaled/')\n",
    "\n",
    "        f_w = Dataset('../data/barra_aus/barra_upscaled/'+file_name,'w',format = 'NETCDF4')\n",
    "        f_w.createDimension('lat',len(lat))\n",
    "        f_w.createDimension('lon',len(lon))\n",
    "\n",
    "        f_w.createVariable('lat',np.float32,('lat'))\n",
    "        f_w.createVariable('lon',np.float32,('lon'))\n",
    "\n",
    "        f_w.variables['lat'][:] = lat\n",
    "        f_w.variables['lon'][:] = lon\n",
    "\n",
    "        f_w.createVariable( 'barra', np.float32, ('lat','lon'))\n",
    "        f_w.variables['barra'][:] =var\n",
    "        f_w.close()\n"
   ]
  },
  {
   "cell_type": "code",
   "execution_count": 37,
   "metadata": {
    "ExecuteTime": {
     "end_time": "2021-07-08T13:48:29.867505Z",
     "start_time": "2021-07-08T13:46:15.010564Z"
    }
   },
   "outputs": [],
   "source": [
    "#calculate the scale factor\n",
    "\n",
    "\n",
    "barra_file_list=list_all_files('../../Data/barra_aus/')\n",
    "barra_upscale_file_list=list_all_files('../../Data/barra_aus/barra_upscaled/')\n",
    "\n",
    "date_list=dpt.date_range(date(2012,1,1),date(2012,12,31))\n",
    "# .timetuple().tm_yday\n",
    "\n",
    "dayofyear=[]\n",
    "for t in date_list:\n",
    "#     print(t)\n",
    "\n",
    "    origin=[]\n",
    "    upscale=[]\n",
    "    for y in range(1990,2013):\n",
    "        try:\n",
    "            taget=date(y,t.month,t.day)\n",
    "        except:\n",
    "            continue\n",
    "            \n",
    "        \n",
    "        file_name='../../Data/barra_aus/'+(taget+timedelta(1)).strftime('%Y%m%d')+'.nc'\n",
    "        \n",
    "        if os.path.exists(file_name):\n",
    "            origin.append(dpt.read_barra_data_fc('../../Data/barra_aus/',taget))\n",
    "            upscale.append(dpt.interp_tensor_2d(dpt.read_barra_data_fc('../../Data/barra_aus/barra_upscaled/',taget),(316,376),interp=cv2.INTER_LINEAR) )\n",
    "        else:\n",
    "            print(file_name)\n",
    "    origin=np.array(origin).mean(axis=0)\n",
    "    upscale=np.array(upscale).mean(axis=0)\n",
    "    print\n",
    "    \n",
    "    dayofyear.append(origin/upscale)\n",
    "\n",
    "np.save('scale_factor.npy',np.array(dayofyear))\n",
    "\n",
    "\n",
    "\n",
    "\n",
    "\n",
    "\n",
    "# for i in \n",
    "#         for file in file_list:\n",
    "\n",
    "#             ensemble_mem=[]\n",
    "# #             year=[]\n",
    "#             historical_year=file.split('/')[-1][6:10]\n",
    "#             historical_month=file.split('/')[-1][10:12]\n",
    "#             historical_day=file.split('/')[-1][12:14] \n",
    "# for i,j in zip(barra_file_list,barra_upscale_file_list):\n",
    "    \n",
    "#     break"
   ]
  },
  {
   "cell_type": "code",
   "execution_count": 38,
   "metadata": {
    "ExecuteTime": {
     "end_time": "2021-07-08T13:49:18.340083Z",
     "start_time": "2021-07-08T13:49:18.254489Z"
    }
   },
   "outputs": [
    {
     "data": {
      "text/plain": [
       "(366, 316, 376)"
      ]
     },
     "execution_count": 38,
     "metadata": {},
     "output_type": "execute_result"
    }
   ],
   "source": [
    "np.load('scale_factor.npy').shape"
   ]
  },
  {
   "cell_type": "code",
   "execution_count": 20,
   "metadata": {
    "ExecuteTime": {
     "end_time": "2021-07-08T12:10:35.370478Z",
     "start_time": "2021-07-08T12:10:35.366932Z"
    }
   },
   "outputs": [
    {
     "data": {
      "text/plain": [
       "'19970213'"
      ]
     },
     "execution_count": 20,
     "metadata": {},
     "output_type": "execute_result"
    }
   ],
   "source": [
    "\n",
    "date(1997,2,13).strftime('%Y%m%d')\n",
    "# .timetuple().tm_yday"
   ]
  }
 ],
 "metadata": {
  "kernelspec": {
   "display_name": "Python 3",
   "language": "python",
   "name": "python3"
  },
  "language_info": {
   "codemirror_mode": {
    "name": "ipython",
    "version": 3
   },
   "file_extension": ".py",
   "mimetype": "text/x-python",
   "name": "python",
   "nbconvert_exporter": "python",
   "pygments_lexer": "ipython3",
   "version": "3.7.1"
  }
 },
 "nbformat": 4,
 "nbformat_minor": 4
}
