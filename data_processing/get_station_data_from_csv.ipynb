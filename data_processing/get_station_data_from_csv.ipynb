{
 "cells": [
  {
   "cell_type": "markdown",
   "metadata": {},
   "source": [
    "the file shows how to use the given latitude and longitude to get coordinates in the image:"
   ]
  },
  {
   "cell_type": "code",
   "execution_count": 13,
   "metadata": {
    "ExecuteTime": {
     "end_time": "2021-03-01T23:25:42.266278Z",
     "start_time": "2021-03-01T23:25:42.252324Z"
    }
   },
   "outputs": [],
   "source": [
    "#first read the csv file or take the prepared data from util.constant_param\n",
    "import sys\n",
    "sys.path.append('../')\n",
    "import util.data_processing_tool as dpt\n",
    "from datetime import date\n",
    "import numpy as np\n",
    "from util.constant_param import station_lat_lon_50 as station_dict\n",
    "\n",
    "# from util.constant_param import station_lat_lon_214 as station_dict\n",
    "\n"
   ]
  },
  {
   "cell_type": "code",
   "execution_count": 14,
   "metadata": {
    "ExecuteTime": {
     "end_time": "2021-03-01T23:25:44.528838Z",
     "start_time": "2021-03-01T23:25:44.479944Z"
    },
    "jupyter": {
     "source_hidden": true
    }
   },
   "outputs": [
    {
     "data": {
      "text/plain": [
       "{8025: [-29.6886, 115.8872],\n",
       " 8095: [-28.5367, 115.5142],\n",
       " 8137: [-30.8917, 116.7186],\n",
       " 9037: [-30.3381, 115.5394],\n",
       " 9581: [-34.625, 117.6361],\n",
       " 9789: [-33.83, 121.8925],\n",
       " 10007: [-30.8081, 117.8603],\n",
       " 10073: [-31.6183, 117.7217],\n",
       " 10515: [-32.1083, 116.9247],\n",
       " 10536: [-32.3292, 117.8733],\n",
       " 10568: [-32.4419, 118.8983],\n",
       " 10614: [-32.9342, 117.1797],\n",
       " 10622: [-33.9644, 118.4889],\n",
       " 10633: [-33.5803, 120.0458],\n",
       " 12071: [-32.9869, 121.6239],\n",
       " 18012: [-32.1297, 133.6976],\n",
       " 18014: [-33.7011, 136.4937],\n",
       " 18044: [-33.1337, 135.5521],\n",
       " 18079: [-32.7963, 134.2116],\n",
       " 19062: [-33.0276, 138.756],\n",
       " 22015: [-34.2971, 138.0014],\n",
       " 22018: [-34.9906, 137.3995],\n",
       " 23343: [-34.5519, 138.8342],\n",
       " 24518: [-35.6902, 139.3375],\n",
       " 25507: [-36.098, 140.3556],\n",
       " 35065: [-24.123, 148.0856],\n",
       " 41359: [-27.4034, 151.7413],\n",
       " 43035: [-27.1591, 149.0702],\n",
       " 47016: [-34.0438, 141.2676],\n",
       " 48031: [-29.5407, 148.5818],\n",
       " 49002: [-34.6398, 143.561],\n",
       " 50031: [-32.7235, 148.1902],\n",
       " 50052: [-33.0664, 147.2283],\n",
       " 51039: [-31.5495, 147.1961],\n",
       " 51049: [-31.9861, 147.9489],\n",
       " 52020: [-28.9786, 148.9899],\n",
       " 55049: [-31.5086, 150.6792],\n",
       " 63254: [-33.3211, 149.0828],\n",
       " 72150: [-35.1583, 147.4575],\n",
       " 73014: [-33.8934, 148.1523],\n",
       " 74034: [-35.9887, 146.3574],\n",
       " 74148: [-34.705, 146.514],\n",
       " 75032: [-33.4915, 145.5248],\n",
       " 75039: [-33.2832, 146.3706],\n",
       " 76031: [-34.2358, 142.0867],\n",
       " 76047: [-35.0682, 142.3125],\n",
       " 78077: [-36.2614, 142.405],\n",
       " 80015: [-36.1647, 144.7642],\n",
       " 80023: [-35.7236, 143.9197],\n",
       " 89085: [-37.2769, 142.9786]}"
      ]
     },
     "execution_count": 14,
     "metadata": {},
     "output_type": "execute_result"
    }
   ],
   "source": [
    "import pandas as pd\n",
    "\n",
    "# a=pd.read_csv(\"../../Data/new50site_ext.csv\",index_col=\"StationName\")\n",
    "a=pd.read_csv(\"../../Data/new50site_ext.csv\",index_col=\"StationCode\")\n",
    "a.head()\n",
    "station=a[[\"Lat\",\"Lon\"]]\n",
    "# station.set_index('StationName')\n",
    "station_50={}\n",
    "station=station.to_dict(orient='index')\n",
    "station\n",
    "for ll in station:\n",
    "    lat=station[ll][\"Lat\"]\n",
    "    lon=station[ll][\"Lon\"]\n",
    "    station_50[ll]=[lat,lon]\n",
    "station_50"
   ]
  },
  {
   "cell_type": "code",
   "execution_count": 15,
   "metadata": {
    "ExecuteTime": {
     "end_time": "2021-03-01T23:25:51.694427Z",
     "start_time": "2021-03-01T23:25:51.600653Z"
    }
   },
   "outputs": [
    {
     "name": "stdout",
     "output_type": "stream",
     "text": [
      "[-44.5  -44.45 -44.4  -44.35 -44.3  -44.25 -44.2  -44.15 -44.1  -44.05\n",
      " -44.   -43.95 -43.9  -43.85 -43.8  -43.75 -43.7  -43.65 -43.6  -43.55\n",
      " -43.5  -43.45 -43.4  -43.35 -43.3  -43.25 -43.2  -43.15 -43.1  -43.05\n",
      " -43.   -42.95 -42.9  -42.85 -42.8  -42.75 -42.7  -42.65 -42.6  -42.55\n",
      " -42.5  -42.45 -42.4  -42.35 -42.3  -42.25 -42.2  -42.15 -42.1  -42.05\n",
      " -42.   -41.95 -41.9  -41.85 -41.8  -41.75 -41.7  -41.65 -41.6  -41.55\n",
      " -41.5  -41.45 -41.4  -41.35 -41.3  -41.25 -41.2  -41.15 -41.1  -41.05\n",
      " -41.   -40.95 -40.9  -40.85 -40.8  -40.75 -40.7  -40.65 -40.6  -40.55\n",
      " -40.5  -40.45 -40.4  -40.35 -40.3  -40.25 -40.2  -40.15 -40.1  -40.05\n",
      " -40.   -39.95 -39.9  -39.85 -39.8  -39.75 -39.7  -39.65 -39.6  -39.55\n",
      " -39.5  -39.45 -39.4  -39.35 -39.3  -39.25 -39.2  -39.15 -39.1  -39.05\n",
      " -39.   -38.95 -38.9  -38.85 -38.8  -38.75 -38.7  -38.65 -38.6  -38.55\n",
      " -38.5  -38.45 -38.4  -38.35 -38.3  -38.25 -38.2  -38.15 -38.1  -38.05\n",
      " -38.   -37.95 -37.9  -37.85 -37.8  -37.75 -37.7  -37.65 -37.6  -37.55\n",
      " -37.5  -37.45 -37.4  -37.35 -37.3  -37.25 -37.2  -37.15 -37.1  -37.05\n",
      " -37.   -36.95 -36.9  -36.85 -36.8  -36.75 -36.7  -36.65 -36.6  -36.55\n",
      " -36.5  -36.45 -36.4  -36.35 -36.3  -36.25 -36.2  -36.15 -36.1  -36.05\n",
      " -36.   -35.95 -35.9  -35.85 -35.8  -35.75 -35.7  -35.65 -35.6  -35.55\n",
      " -35.5  -35.45 -35.4  -35.35 -35.3  -35.25 -35.2  -35.15 -35.1  -35.05\n",
      " -35.   -34.95 -34.9  -34.85 -34.8  -34.75 -34.7  -34.65 -34.6  -34.55\n",
      " -34.5  -34.45 -34.4  -34.35 -34.3  -34.25 -34.2  -34.15 -34.1  -34.05\n",
      " -34.   -33.95 -33.9  -33.85 -33.8  -33.75 -33.7  -33.65 -33.6  -33.55\n",
      " -33.5  -33.45 -33.4  -33.35 -33.3  -33.25 -33.2  -33.15 -33.1  -33.05\n",
      " -33.   -32.95 -32.9  -32.85 -32.8  -32.75 -32.7  -32.65 -32.6  -32.55\n",
      " -32.5  -32.45 -32.4  -32.35 -32.3  -32.25 -32.2  -32.15 -32.1  -32.05\n",
      " -32.   -31.95 -31.9  -31.85 -31.8  -31.75 -31.7  -31.65 -31.6  -31.55\n",
      " -31.5  -31.45 -31.4  -31.35 -31.3  -31.25 -31.2  -31.15 -31.1  -31.05\n",
      " -31.   -30.95 -30.9  -30.85 -30.8  -30.75 -30.7  -30.65 -30.6  -30.55\n",
      " -30.5  -30.45 -30.4  -30.35 -30.3  -30.25 -30.2  -30.15 -30.1  -30.05\n",
      " -30.   -29.95 -29.9  -29.85 -29.8  -29.75 -29.7  -29.65 -29.6  -29.55\n",
      " -29.5  -29.45 -29.4  -29.35 -29.3  -29.25 -29.2  -29.15 -29.1  -29.05\n",
      " -29.   -28.95 -28.9  -28.85 -28.8  -28.75 -28.7  -28.65 -28.6  -28.55\n",
      " -28.5  -28.45 -28.4  -28.35 -28.3  -28.25 -28.2  -28.15 -28.1  -28.05\n",
      " -28.   -27.95 -27.9  -27.85 -27.8  -27.75 -27.7  -27.65 -27.6  -27.55\n",
      " -27.5  -27.45 -27.4  -27.35 -27.3  -27.25 -27.2  -27.15 -27.1  -27.05\n",
      " -27.   -26.95 -26.9  -26.85 -26.8  -26.75 -26.7  -26.65 -26.6  -26.55\n",
      " -26.5  -26.45 -26.4  -26.35 -26.3  -26.25 -26.2  -26.15 -26.1  -26.05\n",
      " -26.   -25.95 -25.9  -25.85 -25.8  -25.75 -25.7  -25.65 -25.6  -25.55\n",
      " -25.5  -25.45 -25.4  -25.35 -25.3  -25.25 -25.2  -25.15 -25.1  -25.05\n",
      " -25.   -24.95 -24.9  -24.85 -24.8  -24.75 -24.7  -24.65 -24.6  -24.55\n",
      " -24.5  -24.45 -24.4  -24.35 -24.3  -24.25 -24.2  -24.15 -24.1  -24.05\n",
      " -24.   -23.95 -23.9  -23.85 -23.8  -23.75 -23.7  -23.65 -23.6  -23.55\n",
      " -23.5  -23.45 -23.4  -23.35 -23.3  -23.25 -23.2  -23.15 -23.1  -23.05\n",
      " -23.   -22.95 -22.9  -22.85 -22.8  -22.75 -22.7  -22.65 -22.6  -22.55\n",
      " -22.5  -22.45 -22.4  -22.35 -22.3  -22.25 -22.2  -22.15 -22.1  -22.05\n",
      " -22.   -21.95 -21.9  -21.85 -21.8  -21.75 -21.7  -21.65 -21.6  -21.55\n",
      " -21.5  -21.45 -21.4  -21.35 -21.3  -21.25 -21.2  -21.15 -21.1  -21.05\n",
      " -21.   -20.95 -20.9  -20.85 -20.8  -20.75 -20.7  -20.65 -20.6  -20.55\n",
      " -20.5  -20.45 -20.4  -20.35 -20.3  -20.25 -20.2  -20.15 -20.1  -20.05\n",
      " -20.   -19.95 -19.9  -19.85 -19.8  -19.75 -19.7  -19.65 -19.6  -19.55\n",
      " -19.5  -19.45 -19.4  -19.35 -19.3  -19.25 -19.2  -19.15 -19.1  -19.05\n",
      " -19.   -18.95 -18.9  -18.85 -18.8  -18.75 -18.7  -18.65 -18.6  -18.55\n",
      " -18.5  -18.45 -18.4  -18.35 -18.3  -18.25 -18.2  -18.15 -18.1  -18.05\n",
      " -18.   -17.95 -17.9  -17.85 -17.8  -17.75 -17.7  -17.65 -17.6  -17.55\n",
      " -17.5  -17.45 -17.4  -17.35 -17.3  -17.25 -17.2  -17.15 -17.1  -17.05\n",
      " -17.   -16.95 -16.9  -16.85 -16.8  -16.75 -16.7  -16.65 -16.6  -16.55\n",
      " -16.5  -16.45 -16.4  -16.35 -16.3  -16.25 -16.2  -16.15 -16.1  -16.05\n",
      " -16.   -15.95 -15.9  -15.85 -15.8  -15.75 -15.7  -15.65 -15.6  -15.55\n",
      " -15.5  -15.45 -15.4  -15.35 -15.3  -15.25 -15.2  -15.15 -15.1  -15.05\n",
      " -15.   -14.95 -14.9  -14.85 -14.8  -14.75 -14.7  -14.65 -14.6  -14.55\n",
      " -14.5  -14.45 -14.4  -14.35 -14.3  -14.25 -14.2  -14.15 -14.1  -14.05\n",
      " -14.   -13.95 -13.9  -13.85 -13.8  -13.75 -13.7  -13.65 -13.6  -13.55\n",
      " -13.5  -13.45 -13.4  -13.35 -13.3  -13.25 -13.2  -13.15 -13.1  -13.05\n",
      " -13.   -12.95 -12.9  -12.85 -12.8  -12.75 -12.7  -12.65 -12.6  -12.55\n",
      " -12.5  -12.45 -12.4  -12.35 -12.3  -12.25 -12.2  -12.15 -12.1  -12.05\n",
      " -12.   -11.95 -11.9  -11.85 -11.8  -11.75 -11.7  -11.65 -11.6  -11.55\n",
      " -11.5  -11.45 -11.4  -11.35 -11.3  -11.25 -11.2  -11.15 -11.1  -11.05\n",
      " -11.   -10.95 -10.9  -10.85 -10.8  -10.75 -10.7  -10.65 -10.6  -10.55\n",
      " -10.5  -10.45 -10.4  -10.35 -10.3  -10.25 -10.2  -10.15 -10.1  -10.05\n",
      " -10.  ]\n",
      "(886,)\n"
     ]
    }
   ],
   "source": [
    "from netCDF4 import Dataset\n",
    "date_time=date(1990,1,1)\n",
    "date_time=date(2012,1,1)\n",
    "\n",
    "# data,lats,lons=dpt.read_barra_data_fc_get_lat_lon(\"../../Data/barra_aus/\",date_time)\n",
    "# a=dpt.read_access_data_calibrataion(\n",
    "#     root_dir='../../Data/calibrated/',\n",
    "#     en='e01',\n",
    "#     date_time=date_time,\n",
    "#     leading='0',\n",
    "#     var_name='pr',\n",
    "# )\n",
    "\n",
    "filename='../../Data/calibrated/daq5_pr_19900101_e01.nc'\n",
    "# filename='../../Data/barra_aus/19900102.nc'\n",
    "\n",
    "data = Dataset(filename, 'r')\n",
    "lats = data['lat'][:]\n",
    "lons = data['lon'][:]\n",
    "# data.close()\n",
    "\n",
    "print(lats.data)\n",
    "print(lons.shape)\n",
    "data.close()\n"
   ]
  },
  {
   "cell_type": "code",
   "execution_count": 16,
   "metadata": {
    "ExecuteTime": {
     "end_time": "2021-03-01T23:25:57.189521Z",
     "start_time": "2021-03-01T23:25:57.183538Z"
    }
   },
   "outputs": [],
   "source": [
    "station_idx={}\n",
    "for station in station_50.keys():\n",
    "    station_idx[station]=dpt.find_coordinate_acc_lat_lon(lats,lons,station_50[station])"
   ]
  },
  {
   "cell_type": "code",
   "execution_count": 17,
   "metadata": {
    "ExecuteTime": {
     "end_time": "2021-03-01T23:25:58.327063Z",
     "start_time": "2021-03-01T23:25:58.320082Z"
    },
    "scrolled": false
   },
   "outputs": [
    {
     "data": {
      "text/plain": [
       "{8025: (296, 78),\n",
       " 8095: (319, 70),\n",
       " 8137: (272, 94),\n",
       " 9037: (283, 71),\n",
       " 9581: (198, 113),\n",
       " 9789: (213, 198),\n",
       " 10007: (274, 117),\n",
       " 10073: (258, 114),\n",
       " 10515: (248, 98),\n",
       " 10536: (243, 117),\n",
       " 10568: (241, 138),\n",
       " 10614: (231, 104),\n",
       " 10622: (211, 130),\n",
       " 10633: (218, 161),\n",
       " 12071: (230, 192),\n",
       " 18012: (247, 434),\n",
       " 18014: (216, 490),\n",
       " 18044: (227, 471),\n",
       " 18079: (234, 444),\n",
       " 19062: (229, 535),\n",
       " 22015: (204, 520),\n",
       " 22018: (190, 508),\n",
       " 23343: (199, 537),\n",
       " 24518: (176, 547),\n",
       " 25507: (168, 567),\n",
       " 35065: (408, 722),\n",
       " 41359: (342, 795),\n",
       " 43035: (347, 741),\n",
       " 47016: (209, 585),\n",
       " 48031: (299, 732),\n",
       " 49002: (197, 631),\n",
       " 50031: (236, 724),\n",
       " 50052: (229, 705),\n",
       " 51039: (259, 704),\n",
       " 51049: (250, 719),\n",
       " 52020: (310, 740),\n",
       " 55049: (260, 774),\n",
       " 63254: (224, 742),\n",
       " 72150: (187, 709),\n",
       " 73014: (212, 723),\n",
       " 74034: (170, 687),\n",
       " 74148: (196, 690),\n",
       " 75032: (220, 670),\n",
       " 75039: (224, 687),\n",
       " 76031: (205, 602),\n",
       " 76047: (189, 606),\n",
       " 78077: (165, 608),\n",
       " 80015: (167, 655),\n",
       " 80023: (176, 638),\n",
       " 89085: (144, 620)}"
      ]
     },
     "execution_count": 17,
     "metadata": {},
     "output_type": "execute_result"
    }
   ],
   "source": [
    "station_idx"
   ]
  },
  {
   "cell_type": "code",
   "execution_count": 16,
   "metadata": {
    "ExecuteTime": {
     "end_time": "2021-02-26T00:05:17.020927Z",
     "start_time": "2021-02-26T00:05:17.004969Z"
    }
   },
   "outputs": [
    {
     "ename": "RuntimeError",
     "evalue": "NetCDF: Not a valid ID",
     "output_type": "error",
     "traceback": [
      "\u001b[1;31m---------------------------------------------------------------------------\u001b[0m",
      "\u001b[1;31mRuntimeError\u001b[0m                              Traceback (most recent call last)",
      "\u001b[1;32m<ipython-input-16-61149e794762>\u001b[0m in \u001b[0;36m<module>\u001b[1;34m\u001b[0m\n\u001b[1;32m----> 1\u001b[1;33m \u001b[0mdata\u001b[0m\u001b[1;33m.\u001b[0m\u001b[0mclose\u001b[0m\u001b[1;33m(\u001b[0m\u001b[1;33m)\u001b[0m\u001b[1;33m\u001b[0m\u001b[1;33m\u001b[0m\u001b[0m\n\u001b[0m",
      "\u001b[1;32mnetCDF4\\_netCDF4.pyx\u001b[0m in \u001b[0;36mnetCDF4._netCDF4.Dataset.close\u001b[1;34m()\u001b[0m\n",
      "\u001b[1;32mnetCDF4\\_netCDF4.pyx\u001b[0m in \u001b[0;36mnetCDF4._netCDF4.Dataset._close\u001b[1;34m()\u001b[0m\n",
      "\u001b[1;32mnetCDF4\\_netCDF4.pyx\u001b[0m in \u001b[0;36mnetCDF4._netCDF4._ensure_nc_success\u001b[1;34m()\u001b[0m\n",
      "\u001b[1;31mRuntimeError\u001b[0m: NetCDF: Not a valid ID"
     ]
    }
   ],
   "source": []
  },
  {
   "cell_type": "code",
   "execution_count": null,
   "metadata": {},
   "outputs": [],
   "source": []
  },
  {
   "cell_type": "code",
   "execution_count": null,
   "metadata": {},
   "outputs": [],
   "source": []
  },
  {
   "cell_type": "code",
   "execution_count": null,
   "metadata": {},
   "outputs": [],
   "source": []
  },
  {
   "cell_type": "code",
   "execution_count": 33,
   "metadata": {},
   "outputs": [
    {
     "name": "stdout",
     "output_type": "stream",
     "text": [
      "315\n",
      "315\n"
     ]
    },
    {
     "data": {
      "text/plain": [
       "-0.012492675781260232"
      ]
     },
     "execution_count": 33,
     "metadata": {},
     "output_type": "execute_result"
    }
   ],
   "source": [
    "#testing code, nothing should be care\n",
    "\n",
    "date_time=date(1990,1,1)\n",
    "data,lats,lons=dpt.read_barra_data_fc_get_lat_lon(\"../../Data/barra_aus/\",date_time)\n",
    "\n",
    "\n",
    "\n",
    "station_5={\n",
    "     'WAGGA WAGGA AMO': [-35.1583, 147.4575],\n",
    "     'MENINGIE': [-35.6902, 139.3375],\n",
    "     'SURAT': [-27.1591, 149.0702],\n",
    "     'MILDURA AIRPORT': [-34.2358, 142.0867],\n",
    "     'ORANGE AGRICULTURAL INSTITUTE': [-33.3211, 149.0828],\n",
    "}\n",
    "station_5_idx={}\n",
    "\n",
    "for station in station_5.keys():\n",
    "    target_lat=-35.1583\n",
    "    target_lon=147.4575\n",
    "    idx_lat=len(lats[lats<target_lat])\n",
    "\n",
    "    idx_lon=len(lons.data[lons.data<target_lon])\n",
    "    print(idx_lon)\n",
    "#     if abs(lons.data[idx_lon-1]-target_lon)<abs(lons.data[idx_lon]-target_lon):\n",
    "#         idx_lon-=1\n",
    "#         print(1)\n",
    "    break\n",
    "# #     print(station_5[station])\n",
    "\n",
    "#     station_5_idx[station]=dpt.find_coordinate_acc_lat_lon(lats,lons,station_5[station])\n",
    "#     print(dpt.find_coordinate_acc_lat_lon(lats,lons,station_5[station]))\n",
    "print(idx_lon)\n",
    "lons.data[idx_lon-1]-target_lon"
   ]
  },
  {
   "cell_type": "code",
   "execution_count": 35,
   "metadata": {},
   "outputs": [
    {
     "name": "stdout",
     "output_type": "stream",
     "text": [
      "147.445 147.555\n",
      "1\n"
     ]
    }
   ],
   "source": [
    "# lons.data[idx_lon]-target_lon\n",
    "if abs(lons.data[idx_lon-1]-target_lon)<abs(lons.data[idx_lon]-target_lon):\n",
    "    print(lons.data[idx_lon-1],lons.data[idx_lon])\n",
    "    print(1)"
   ]
  },
  {
   "cell_type": "code",
   "execution_count": null,
   "metadata": {},
   "outputs": [],
   "source": [
    "def map_aust_station(data, lat=None, lon=None,domain = [112.9, 154.25, -43.7425, -9.0],xrarray=True):\n",
    "    '''\n",
    "    The function is find a certain point according to the given latitude and longtitude .\n",
    "    \n",
    "    param:\n",
    "        \n",
    "        lat: the data latitude map. the shape of it is \n",
    "    '''\n",
    "    if str(type(data))==\"<class 'xarray.core.dataarray.DataArray'>\":\n",
    "        da=data.data\n",
    "        lat=data.lat.data\n",
    "        lon=data.lon.data\n",
    "    else:\n",
    "        da=data\n",
    "        \n",
    "#     if domain==None:\n",
    "#         domain = [111.85, 156.275, -44.35, -9.975]\n",
    "    a = np.logical_and(lon>=domain[0], lon<=domain[1])\n",
    "    b = np.logical_and(lat>=domain[2], lat<=domain[3])\n",
    "    return a,b\n",
    "    da=da[b,:][:,a].copy()\n",
    "    llons, llats=lon[a], lat[b] # 将维度按照 x,y 横向竖向\n",
    "        \n",
    "    \n",
    "    return da,llats,llons\n"
   ]
  },
  {
   "cell_type": "code",
   "execution_count": 4,
   "metadata": {},
   "outputs": [],
   "source": [
    "\n",
    "\n",
    "\n",
    "station_5={\n",
    "     'WAGGA WAGGA AMO': [-35.1583, 147.4575],\n",
    "     'MENINGIE': [-35.6902, 139.3375],\n",
    "     'SURAT': [-27.1591, 149.0702],\n",
    "     'MILDURA AIRPORT': [-34.2358, 142.0867],\n",
    "     'ORANGE AGRICULTURAL INSTITUTE': [-33.3211, 149.0828],\n",
    "}\n",
    "\n",
    "station_5_idx={\n",
    "#     坐标\n",
    "    'WAGGA WAGGA AMO': (98, 176),\n",
    "     'MENINGIE': (97, 167),\n",
    "     'SURAT': (113, 178),\n",
    "     'MILDURA AIRPORT': (100, 170),\n",
    "     'ORANGE AGRICULTURAL INSTITUTE': (102, 178)}\n",
    "\n",
    "root_dir='../../data/'\n",
    "# root_dir=\"/g/data/ub7/access-s1/hc/raw_model/atmos/\"\n",
    "var_name='pr'\n",
    "\n",
    "\n",
    "for station in station_5_idx.keys():\n",
    "    container=[]\n",
    "    for en in ['e01','e02','e03','e04','e05','e06','e07','e08','e09','e10','e11']:        \n",
    "        ensamble=[]\n",
    "        for i in range(1,13):\n",
    "            date_time=date(2012,i,1)\n",
    "            filename=root_dir+var_name+\"/daily/\"+en+\"/\"+\"da_\"+var_name+\"_\"+date_time.strftime(\"%Y%m%d\")+\"_\"+en+\".nc\"\n",
    "            data = Dataset(filename, 'r')\n",
    "            \n",
    "#             var = data[var_name][:,station_5_idx[station][0],station_5_idx[station][1]]\n",
    "            var=np.zeros((224,324,432))[:,station_5_idx[station][0],station_5_idx[station][1]]\n",
    "    \n",
    "            ensamble.append(var)\n",
    "            data.close()\n",
    "        container.append(ensamble)\n",
    "    container=np.array(container)\n",
    "    shape=container.shape\n",
    "    f_w = nc.Dataset('../save/5_station_nc_data/'+station+'.nc','w',format = 'NETCDF4')\n",
    "    f_w.createDimension('leading_time',shape[2])\n",
    "    f_w.createDimension('month',shape[1])\n",
    "    f_w.createDimension('ensembles',shape[0])\n",
    "\n",
    "    f_w.createVariable('leading_time',np.int,('leading_time'))\n",
    "    f_w.createVariable('month',np.int,('month'))\n",
    "    f_w.createVariable('ensembles',np.int,('ensembles'))\n",
    "\n",
    "\n",
    "\n",
    "    f_w.variables['leading_time'][:] = np.arange(1,shape[2]+1)\n",
    "    f_w.variables['month'][:] =  np.arange(1,shape[1]+1)\n",
    "    f_w.variables['ensembles'][:] =  np.arange(1,shape[0]+1)\n",
    "\n",
    "\n",
    "    f_w.createVariable( var_name, np.float32, ('ensembles','month','leading_time'))\n",
    "    f_w.variables[var_name][:] = container\n",
    "\n",
    "    f_w.close()\n",
    "        \n",
    "\n",
    "#     print(dpt.read_barra_data_fc(\"../data/barra_aus/\",demo_date)[78,315])\n",
    "\n",
    "#  'WAGGA WAGGA AMO': [78, 315],"
   ]
  },
  {
   "cell_type": "code",
   "execution_count": 4,
   "metadata": {},
   "outputs": [
    {
     "data": {
      "text/plain": [
       "(11, 12, 224)"
      ]
     },
     "execution_count": 4,
     "metadata": {},
     "output_type": "execute_result"
    }
   ],
   "source": [
    "np.array(container).shape"
   ]
  },
  {
   "cell_type": "code",
   "execution_count": 8,
   "metadata": {},
   "outputs": [
    {
     "name": "stdout",
     "output_type": "stream",
     "text": [
      "(98, 176)\n",
      "(97, 167)\n",
      "(113, 178)\n",
      "(100, 170)\n",
      "(102, 178)\n"
     ]
    }
   ],
   "source": [
    "station_5_idx={}\n",
    "\n",
    "for station in station_5.keys():\n",
    "#     print(station_5[station])\n",
    "    data = Dataset('../data/da_pr_19900125_e01.nc', 'r')\n",
    "    lats = data['lat'][:]\n",
    "    lons = data['lon'][:]\n",
    "    station_5_idx[station]=dpt.find_coordinate_acc_lat_lon(lats,lons,station_5[station])\n",
    "    print(dpt.find_coordinate_acc_lat_lon(lats,lons,station_5[station]))\n",
    "    data[\"pr\"]\n",
    "    data.close()"
   ]
  },
  {
   "cell_type": "code",
   "execution_count": 12,
   "metadata": {},
   "outputs": [],
   "source": [
    "station_5_idx={'WAGGA WAGGA AMO': (98, 176),\n",
    " 'MENINGIE': (97, 167),\n",
    " 'SURAT': (113, 178),\n",
    " 'MILDURA AIRPORT': (100, 170),\n",
    " 'ORANGE AGRICULTURAL INSTITUTE': (102, 178)}"
   ]
  },
  {
   "cell_type": "code",
   "execution_count": 17,
   "metadata": {},
   "outputs": [
    {
     "data": {
      "text/plain": [
       "0.0"
      ]
     },
     "execution_count": 17,
     "metadata": {},
     "output_type": "execute_result"
    }
   ],
   "source": [
    "\n",
    "np.zeros((224,324,432))[station_5_idx['MENINGIE']]"
   ]
  },
  {
   "cell_type": "code",
   "execution_count": 42,
   "metadata": {},
   "outputs": [
    {
     "data": {
      "text/plain": [
       "<class 'netCDF4._netCDF4.Variable'>\n",
       "float64 accum_prcp(time, latitude, longitude)\n",
       "    _FillValue: -1073741824.0\n",
       "    standard_name: precipitation_amount\n",
       "    units: kg m-2\n",
       "    um_stash_source: m01s05i226\n",
       "    grid_mapping: latitude_longitude\n",
       "    coordinates: forecast_period forecast_reference_time time\n",
       "    cell_methods: time: sum\n",
       "    long_name: TOTAL PRECIPITATION AMOUNT  KG/M2/TS\n",
       "    stash_code: 5226\n",
       "    wgdos_packing_accuracy: None\n",
       "    stash_comments: Total precipitation amount at the surface in kg/m2 per timestep. This is the sum of the large scale and convective rainfall and snowfall at the surface. You are advised to used 216 instead.\n",
       "    stash_description: TOTAL PRECIPITATION AMOUNT  KG/M2/TS\n",
       "    description: Total precipitation amount at the surface. This is the sum of the large scale rainfall, convective rainfall and snowfall at the surface.\n",
       "    MD5: d007fd135537e47abd308b6247653658\n",
       "unlimited dimensions: \n",
       "current shape = (6, 768, 1200)\n",
       "filling on"
      ]
     },
     "execution_count": 42,
     "metadata": {},
     "output_type": "execute_result"
    }
   ],
   "source": [
    "data = Dataset('../../data/accum_prcp-fc-spec-PT1H-BARRA_R-v1-19900101T0000Z.sub.nc', 'r')\n",
    "data[\"accum_prcp\"]"
   ]
  },
  {
   "cell_type": "code",
   "execution_count": 36,
   "metadata": {},
   "outputs": [
    {
     "data": {
      "text/plain": [
       "<class 'netCDF4._netCDF4.Variable'>\n",
       "float32 pr(time, lat, lon)\n",
       "    _FillValue: -1073741800.0\n",
       "    stash_item: 216\n",
       "    stash_model: 1\n",
       "    lookup_source: defaults (cdunifpp V0.13)\n",
       "    cell_methods: time0: mean\n",
       "    stash_section: 5\n",
       "    missing_value: -1073741800.0\n",
       "    name: pr\n",
       "    long_name: TOTAL PRECIPITATION RATE     KG/M2/S\n",
       "    standard_name: precipitation_flux\n",
       "    units: kg m-2 s-1\n",
       "unlimited dimensions: time\n",
       "current shape = (217, 324, 432)\n",
       "filling on"
      ]
     },
     "execution_count": 36,
     "metadata": {},
     "output_type": "execute_result"
    }
   ],
   "source": [
    "data = Dataset('../../data/da_pr_19900101_e01.nc', 'r')\n",
    "data['pr']"
   ]
  },
  {
   "cell_type": "code",
   "execution_count": 40,
   "metadata": {},
   "outputs": [
    {
     "data": {
      "text/plain": [
       "<class 'netCDF4._netCDF4.Variable'>\n",
       "float32 pr(time, lat, lon)\n",
       "    long_name: precipition\n",
       "    cell_methods: time0: mean\n",
       "    units: mm/day\n",
       "    _FillValue: 1e+20\n",
       "    missing_value: 1e+20\n",
       "unlimited dimensions: time\n",
       "current shape = (217, 691, 886)\n",
       "filling on"
      ]
     },
     "execution_count": 40,
     "metadata": {},
     "output_type": "execute_result"
    }
   ],
   "source": [
    "data = Dataset('../../data/calibrated/daq5_pr_19900101_e01.nc', 'r')\n",
    "data['pr']"
   ]
  },
  {
   "cell_type": "code",
   "execution_count": 17,
   "metadata": {},
   "outputs": [
    {
     "data": {
      "text/plain": [
       "(11, 12, 217)"
      ]
     },
     "execution_count": 17,
     "metadata": {},
     "output_type": "execute_result"
    }
   ],
   "source": [
    "data = Dataset('../save/5_station_nc/MILDURA AIRPORT.nc', 'r')\n",
    "data['pr'][:].shape"
   ]
  },
  {
   "cell_type": "code",
   "execution_count": null,
   "metadata": {},
   "outputs": [],
   "source": [
    "data = Dataset(\"/g/data/ub7/access-s1/hc/raw_model/atmos/pr/daily/e01/da_pr_19900125_e01.nc\", 'r')\n"
   ]
  },
  {
   "cell_type": "code",
   "execution_count": 11,
   "metadata": {},
   "outputs": [
    {
     "data": {
      "text/plain": [
       "masked_array(\n",
       "  data=[[ 5.62667196e-07,  5.27892951e-07,  5.04830723e-07, ...,\n",
       "          9.47191040e-07,  3.76630254e-07, -5.11520994e-08],\n",
       "        [ 4.71734836e-07,  4.56662178e-07,  4.45439838e-07, ...,\n",
       "          1.43481395e-06,  8.07699962e-07,  3.72042223e-07],\n",
       "        [ 5.92522156e-07,  5.12156362e-07,  3.99630153e-07, ...,\n",
       "          4.20466540e-06,  3.92825541e-06,  3.72678960e-06],\n",
       "        ...,\n",
       "        [ 2.27520592e-04,  1.75201771e-04,  1.16123345e-04, ...,\n",
       "          7.69401959e-05,  8.96616693e-05,  9.94255170e-05],\n",
       "        [ 2.45844363e-04,  1.96439796e-04,  1.33386784e-04, ...,\n",
       "          1.04004830e-04,  1.29386623e-04,  1.47146318e-04],\n",
       "        [ 2.46403593e-04,  2.14110798e-04,  1.64012657e-04, ...,\n",
       "          1.40277916e-04,  1.82030446e-04,  2.11216655e-04]],\n",
       "  mask=False,\n",
       "  fill_value=1e+20,\n",
       "  dtype=float32)"
      ]
     },
     "execution_count": 11,
     "metadata": {},
     "output_type": "execute_result"
    }
   ],
   "source": [
    "data = Dataset(\"../../data/pr/daily/e01/da_pr_19900125_e01.nc\", 'r')\n",
    "data['pr']"
   ]
  },
  {
   "cell_type": "code",
   "execution_count": null,
   "metadata": {},
   "outputs": [],
   "source": [
    "dpt.read"
   ]
  }
 ],
 "metadata": {
  "kernelspec": {
   "display_name": "Python 3",
   "language": "python",
   "name": "python3"
  },
  "language_info": {
   "codemirror_mode": {
    "name": "ipython",
    "version": 3
   },
   "file_extension": ".py",
   "mimetype": "text/x-python",
   "name": "python",
   "nbconvert_exporter": "python",
   "pygments_lexer": "ipython3",
   "version": "3.7.1"
  }
 },
 "nbformat": 4,
 "nbformat_minor": 4
}
